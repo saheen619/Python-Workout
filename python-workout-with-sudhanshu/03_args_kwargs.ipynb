{
 "cells": [
  {
   "attachments": {},
   "cell_type": "markdown",
   "metadata": {},
   "source": [
    "# *args - non-keyword arguments"
   ]
  },
  {
   "attachments": {},
   "cell_type": "markdown",
   "metadata": {},
   "source": [
    "##### You can actually pass anynumbe rof arguments using * followed by a keyword, by naming conventions, *args"
   ]
  },
  {
   "cell_type": "code",
   "execution_count": 1,
   "metadata": {},
   "outputs": [],
   "source": [
    "def test1(*args):\n",
    "    return args"
   ]
  },
  {
   "cell_type": "code",
   "execution_count": 3,
   "metadata": {},
   "outputs": [
    {
     "data": {
      "text/plain": [
       "('saheen', 'ahzan', 33, 444, 555, 6666)"
      ]
     },
     "execution_count": 3,
     "metadata": {},
     "output_type": "execute_result"
    }
   ],
   "source": [
    "test1(\"saheen\",\"ahzan\",33,444,555,6666)"
   ]
  },
  {
   "attachments": {},
   "cell_type": "markdown",
   "metadata": {},
   "source": [
    "##### You may also use different keywords prefixed by a *"
   ]
  },
  {
   "cell_type": "code",
   "execution_count": 9,
   "metadata": {},
   "outputs": [
    {
     "data": {
      "text/plain": [
       "(33, 444, 555, 6666)"
      ]
     },
     "execution_count": 9,
     "metadata": {},
     "output_type": "execute_result"
    }
   ],
   "source": [
    "def test1(*saheen):\n",
    "    return saheen\n",
    "\n",
    "\n",
    "test1(33,444,555,6666)"
   ]
  },
  {
   "attachments": {},
   "cell_type": "markdown",
   "metadata": {},
   "source": [
    "##### Also, you could assign n number of arguments to a particular statement and then assign specific other arguments too."
   ]
  },
  {
   "cell_type": "code",
   "execution_count": 11,
   "metadata": {},
   "outputs": [
    {
     "data": {
      "text/plain": [
       "(('Saheen', 'Ahzan', 'Anvar', 'TVM'), 40000)"
      ]
     },
     "execution_count": 11,
     "metadata": {},
     "output_type": "execute_result"
    }
   ],
   "source": [
    "def test2(*args, a):\n",
    "    return args, a\n",
    "\n",
    "\n",
    "\n",
    "test2(\"Saheen\",\"Ahzan\",\"Anvar\",\"TVM\", a= 40000)"
   ]
  },
  {
   "attachments": {},
   "cell_type": "markdown",
   "metadata": {},
   "source": [
    "##### Also, the order of arguments assigned matters"
   ]
  },
  {
   "cell_type": "code",
   "execution_count": 13,
   "metadata": {},
   "outputs": [
    {
     "data": {
      "text/plain": [
       "((1, 2, 3, 4, 5, 6, 7), 'SAHEEN, PASSES AS a')"
      ]
     },
     "execution_count": 13,
     "metadata": {},
     "output_type": "execute_result"
    }
   ],
   "source": [
    "def test3(a, *args):\n",
    "    return args, a\n",
    "\n",
    "\n",
    "\n",
    "test3('SAHEEN, PASSES AS a', 1,2,3,4,5,6,7)"
   ]
  },
  {
   "attachments": {},
   "cell_type": "markdown",
   "metadata": {},
   "source": [
    "# **kwargs - keyword arguments"
   ]
  },
  {
   "attachments": {},
   "cell_type": "markdown",
   "metadata": {},
   "source": [
    "##### While *args read the argument data as collection of elements in a tuple, **kwargs collect the arguments with a keyword and reads the data in key-value pairs like a dictionary"
   ]
  },
  {
   "cell_type": "code",
   "execution_count": 3,
   "metadata": {},
   "outputs": [
    {
     "data": {
      "text/plain": [
       "{'a': 'Saheen', 'b': 'Ahzan', 'c': 15200, 'd': [1, 11, 111, 1111, 11111]}"
      ]
     },
     "execution_count": 3,
     "metadata": {},
     "output_type": "execute_result"
    }
   ],
   "source": [
    "def test1(**kwargs):\n",
    "    return kwargs\n",
    "\n",
    "\n",
    "test1(a = \"Saheen\",b = \"Ahzan\", c = 15200, d = [1,11,111,1111,11111])"
   ]
  },
  {
   "attachments": {},
   "cell_type": "markdown",
   "metadata": {},
   "source": [
    "##### Please note that assigment operation won't be effective in the case of kwargs, but use variable to do the assigment and it works"
   ]
  },
  {
   "cell_type": "code",
   "execution_count": 10,
   "metadata": {},
   "outputs": [
    {
     "ename": "SyntaxError",
     "evalue": "expression cannot contain assignment, perhaps you meant \"==\"? (1038217013.py, line 3)",
     "output_type": "error",
     "traceback": [
      "\u001b[1;36m  Cell \u001b[1;32mIn[10], line 3\u001b[1;36m\u001b[0m\n\u001b[1;33m    test1(\"f_name\"= \"Saheen\", \"l_name\"=\"Ahzan\", \"contact\"= 98134114749345)\u001b[0m\n\u001b[1;37m          ^\u001b[0m\n\u001b[1;31mSyntaxError\u001b[0m\u001b[1;31m:\u001b[0m expression cannot contain assignment, perhaps you meant \"==\"?\n"
     ]
    }
   ],
   "source": [
    "# Here, the assigment on a str type doesnt work. Instead follow the below approach\n",
    "\n",
    "test1(\"f_name\"= \"Saheen\", \"l_name\"=\"Ahzan\", \"contact\"= 98134114749345)"
   ]
  },
  {
   "cell_type": "code",
   "execution_count": 9,
   "metadata": {},
   "outputs": [
    {
     "data": {
      "text/plain": [
       "{'f_name': 'Saheen', 'l_name': 'Ahzan', 'contact': 98134114749345}"
      ]
     },
     "execution_count": 9,
     "metadata": {},
     "output_type": "execute_result"
    }
   ],
   "source": [
    "# But the below variable assignment works\n",
    "\n",
    "test1(f_name = \"Saheen\", l_name = \"Ahzan\", contact = 98134114749345)"
   ]
  },
  {
   "attachments": {},
   "cell_type": "markdown",
   "metadata": {},
   "source": [
    "##### In the below case, we try to take a **kwargs with another independent variable"
   ]
  },
  {
   "cell_type": "code",
   "execution_count": 17,
   "metadata": {},
   "outputs": [],
   "source": [
    "def test2(a, **kwargs):\n",
    "    return kwargs, a"
   ]
  },
  {
   "cell_type": "code",
   "execution_count": 18,
   "metadata": {},
   "outputs": [
    {
     "ename": "TypeError",
     "evalue": "test2() got multiple values for argument 'a'",
     "output_type": "error",
     "traceback": [
      "\u001b[1;31m---------------------------------------------------------------------------\u001b[0m",
      "\u001b[1;31mTypeError\u001b[0m                                 Traceback (most recent call last)",
      "Cell \u001b[1;32mIn[18], line 3\u001b[0m\n\u001b[0;32m      1\u001b[0m \u001b[39m# In this case, the program will crash because a will be mis-interpreted multiple times\u001b[39;00m\n\u001b[1;32m----> 3\u001b[0m test2(\u001b[39m235683743\u001b[39;49m, a \u001b[39m=\u001b[39;49m \u001b[39m\"\u001b[39;49m\u001b[39msaheen\u001b[39;49m\u001b[39m\"\u001b[39;49m, b \u001b[39m=\u001b[39;49m \u001b[39m\"\u001b[39;49m\u001b[39mkadskfad\u001b[39;49m\u001b[39m\"\u001b[39;49m, c \u001b[39m=\u001b[39;49m\u001b[39m9824012707402\u001b[39;49m, d \u001b[39m=\u001b[39;49m \u001b[39m28\u001b[39;49m)\n",
      "\u001b[1;31mTypeError\u001b[0m: test2() got multiple values for argument 'a'"
     ]
    }
   ],
   "source": [
    "# In this case, the program will crash because a will be mis-interpreted multiple times\n",
    "\n",
    "test2(235683743, a = \"saheen\", b = \"kadskfad\", c =9824012707402, d = 28)"
   ]
  },
  {
   "cell_type": "code",
   "execution_count": 20,
   "metadata": {},
   "outputs": [
    {
     "data": {
      "text/plain": [
       "({'name': 'saheen', 'b': 'kadskfad', 'c': 9824012707402, 'd': 28}, 235683743)"
      ]
     },
     "execution_count": 20,
     "metadata": {},
     "output_type": "execute_result"
    }
   ],
   "source": [
    "# In this case, since a as a keyword wasnt used and so the program works\n",
    "\n",
    "test2(235683743, name = \"saheen\", b = \"kadskfad\", c =9824012707402, d = 28)"
   ]
  },
  {
   "attachments": {},
   "cell_type": "markdown",
   "metadata": {},
   "source": [
    "##### Using individual argument, *argz, **kwargs together in a single function "
   ]
  },
  {
   "cell_type": "code",
   "execution_count": 22,
   "metadata": {},
   "outputs": [],
   "source": [
    "def test3(a, *args, **kwargs):\n",
    "    return a, args, kwargs"
   ]
  },
  {
   "cell_type": "code",
   "execution_count": 25,
   "metadata": {},
   "outputs": [
    {
     "data": {
      "text/plain": [
       "(3211,\n",
       " (14121, 14141, 4141, 6364, 384, 3, 36363),\n",
       " {'var1': 42334, 'var2': 235215})"
      ]
     },
     "execution_count": 25,
     "metadata": {},
     "output_type": "execute_result"
    }
   ],
   "source": [
    "test3(3211,14121,14141,4141,6364,384,3,36363, var1 = 42334, var2 = 235215)"
   ]
  }
 ],
 "metadata": {
  "kernelspec": {
   "display_name": "Python 3",
   "language": "python",
   "name": "python3"
  },
  "language_info": {
   "codemirror_mode": {
    "name": "ipython",
    "version": 3
   },
   "file_extension": ".py",
   "mimetype": "text/x-python",
   "name": "python",
   "nbconvert_exporter": "python",
   "pygments_lexer": "ipython3",
   "version": "3.10.7"
  },
  "orig_nbformat": 4
 },
 "nbformat": 4,
 "nbformat_minor": 2
}
