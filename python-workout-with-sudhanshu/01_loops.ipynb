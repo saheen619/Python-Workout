{
 "cells": [
  {
   "cell_type": "code",
   "execution_count": 12,
   "metadata": {},
   "outputs": [],
   "source": [
    "# A list l as below:\n",
    "\n",
    "l = [1,2,3,3,2424,5252,525,633,66,6.5,4+5j,[9,8,7,6],(1,2,3,4),{4,5,6,7}, \"This is CS50\", \"SAHEEN\"]"
   ]
  },
  {
   "cell_type": "code",
   "execution_count": 3,
   "metadata": {},
   "outputs": [
    {
     "data": {
      "text/plain": [
       "15"
      ]
     },
     "execution_count": 3,
     "metadata": {},
     "output_type": "execute_result"
    }
   ],
   "source": [
    "len(l)"
   ]
  },
  {
   "cell_type": "code",
   "execution_count": 4,
   "metadata": {},
   "outputs": [
    {
     "data": {
      "text/plain": [
       "range(0, 15)"
      ]
     },
     "execution_count": 4,
     "metadata": {},
     "output_type": "execute_result"
    }
   ],
   "source": [
    "range(len(l))"
   ]
  },
  {
   "cell_type": "markdown",
   "metadata": {},
   "source": [
    "### To print the index and the elements of the list w/o using the index method"
   ]
  },
  {
   "cell_type": "code",
   "execution_count": 5,
   "metadata": {},
   "outputs": [
    {
     "name": "stdout",
     "output_type": "stream",
     "text": [
      "0, 1\n",
      "1, 2\n",
      "2, 3\n",
      "3, 3\n",
      "4, 2424\n",
      "5, 5252\n",
      "6, 525\n",
      "7, 633\n",
      "8, 66\n",
      "9, 6.5\n",
      "10, (4+5j)\n",
      "11, [9, 8, 7, 6]\n",
      "12, (1, 2, 3, 4)\n",
      "13, {4, 5, 6, 7}\n",
      "14, This is CS50\n"
     ]
    }
   ],
   "source": [
    "for i in range(len(l)):\n",
    "    print(f\"{i}, {l[i]}\")"
   ]
  },
  {
   "cell_type": "code",
   "execution_count": 139,
   "metadata": {},
   "outputs": [
    {
     "name": "stdout",
     "output_type": "stream",
     "text": [
      "(0, 1)\n",
      "(1, 2)\n",
      "(2, 3)\n",
      "(3, 3)\n",
      "(4, 2424)\n",
      "(5, 5252)\n",
      "(6, 525)\n",
      "(7, 633)\n",
      "(8, 66)\n",
      "(9, 6.5)\n",
      "(10, (4+5j))\n",
      "(11, [9, 8, 7, 6])\n",
      "(12, (1, 2, 3, 4))\n",
      "(13, {4, 5, 6, 7})\n",
      "(14, 'This is CS50')\n"
     ]
    }
   ],
   "source": [
    "# Another approach using enumerate function\n",
    "\n",
    "for i in enumerate(l):\n",
    "    print(i)"
   ]
  },
  {
   "cell_type": "code",
   "execution_count": 140,
   "metadata": {},
   "outputs": [
    {
     "name": "stdout",
     "output_type": "stream",
     "text": [
      "index 0 for the element 1\n",
      "index 1 for the element 2\n",
      "index 2 for the element 3\n",
      "index 3 for the element 3\n",
      "index 4 for the element 2424\n",
      "index 5 for the element 5252\n",
      "index 6 for the element 525\n",
      "index 7 for the element 633\n",
      "index 8 for the element 66\n",
      "index 9 for the element 6.5\n",
      "index 10 for the element (4+5j)\n",
      "index 11 for the element [9, 8, 7, 6]\n",
      "index 12 for the element (1, 2, 3, 4)\n",
      "index 13 for the element {4, 5, 6, 7}\n",
      "index 14 for the element This is CS50\n"
     ]
    }
   ],
   "source": [
    "# Another approach to seperately use index and the element using the enumerate function\n",
    "\n",
    "for i, j in enumerate(l):\n",
    "    print(f\"index {i} for the element {j}\")"
   ]
  },
  {
   "cell_type": "markdown",
   "metadata": {},
   "source": [
    "### To print the index and the elements of the list by using the index method"
   ]
  },
  {
   "cell_type": "code",
   "execution_count": 6,
   "metadata": {},
   "outputs": [
    {
     "name": "stdout",
     "output_type": "stream",
     "text": [
      "0, 1\n",
      "1, 2\n",
      "2, 3\n",
      "2, 3\n",
      "4, 2424\n",
      "5, 5252\n",
      "6, 525\n",
      "7, 633\n",
      "8, 66\n",
      "9, 6.5\n",
      "10, (4+5j)\n",
      "11, [9, 8, 7, 6]\n",
      "12, (1, 2, 3, 4)\n",
      "13, {4, 5, 6, 7}\n",
      "14, This is CS50\n"
     ]
    }
   ],
   "source": [
    "for i in l:\n",
    "    print(f\"{l.index(i)},\", i)"
   ]
  },
  {
   "cell_type": "markdown",
   "metadata": {},
   "source": [
    "### To print a list of iterated elements of the string from the list"
   ]
  },
  {
   "cell_type": "code",
   "execution_count": 15,
   "metadata": {},
   "outputs": [
    {
     "name": "stdout",
     "output_type": "stream",
     "text": [
      "['T', 'h', 'i', 's', ' ', 'i', 's', ' ', 'C', 'S', '5', '0']\n",
      "['S', 'A', 'H', 'E', 'E', 'N']\n"
     ]
    }
   ],
   "source": [
    "for i in l:\n",
    "    if type(i) == str:\n",
    "        l1 = []\n",
    "        for j in i:\n",
    "            l1.append(j)\n",
    "        print (l1)"
   ]
  },
  {
   "cell_type": "markdown",
   "metadata": {},
   "source": [
    "### To print the list of \"power of all int elements\" from the list"
   ]
  },
  {
   "cell_type": "code",
   "execution_count": 10,
   "metadata": {},
   "outputs": [
    {
     "name": "stdout",
     "output_type": "stream",
     "text": [
      "[1, 4, 9, 9, 5875776, 27583504, 275625, 400689, 4356]\n"
     ]
    }
   ],
   "source": [
    "l2 = []\n",
    "\n",
    "for i in l:\n",
    "    if type(i) == int:\n",
    "        l2.append(i**2)\n",
    "\n",
    "print(l2)"
   ]
  },
  {
   "cell_type": "markdown",
   "metadata": {},
   "source": [
    "### for-else loop\n",
    "### Using break statement to break the entire loop"
   ]
  },
  {
   "cell_type": "code",
   "execution_count": 21,
   "metadata": {},
   "outputs": [
    {
     "name": "stdout",
     "output_type": "stream",
     "text": [
      "1\n",
      "2\n"
     ]
    }
   ],
   "source": [
    "for i in l:\n",
    "    if i == 3:\n",
    "        break\n",
    "    print(i)\n",
    "else:\n",
    "    print(\"Check the statement\")"
   ]
  },
  {
   "cell_type": "markdown",
   "metadata": {},
   "source": [
    "### To break the statemtnt in presence of a particular element (in this case 3) and then continuing with other elements."
   ]
  },
  {
   "cell_type": "code",
   "execution_count": 25,
   "metadata": {},
   "outputs": [
    {
     "name": "stdout",
     "output_type": "stream",
     "text": [
      "1\n",
      "2\n",
      "2424\n",
      "5252\n",
      "525\n",
      "633\n",
      "66\n",
      "6.5\n",
      "(4+5j)\n",
      "[9, 8, 7, 6]\n",
      "(1, 2, 3, 4)\n",
      "{4, 5, 6, 7}\n",
      "This is CS50\n",
      "SAHEEN\n",
      "Check the statement\n"
     ]
    }
   ],
   "source": [
    "for i in l:\n",
    "    if i == 3:\n",
    "        continue\n",
    "        break\n",
    "    print(i)\n",
    "else:\n",
    "    print(\"Check the statement\")"
   ]
  },
  {
   "cell_type": "markdown",
   "metadata": {},
   "source": [
    "### While Loop Sayntax"
   ]
  },
  {
   "cell_type": "code",
   "execution_count": 36,
   "metadata": {},
   "outputs": [
    {
     "name": "stdout",
     "output_type": "stream",
     "text": [
      "1\n",
      "2\n",
      "3\n",
      "4\n",
      "5\n"
     ]
    }
   ],
   "source": [
    "a = 1\n",
    "\n",
    "while a < 6:\n",
    "    print(a)\n",
    "    a += 1"
   ]
  },
  {
   "cell_type": "markdown",
   "metadata": {},
   "source": [
    "### Other keywords used"
   ]
  },
  {
   "cell_type": "code",
   "execution_count": null,
   "metadata": {},
   "outputs": [],
   "source": [
    "pass\n",
    "break\n",
    "continue"
   ]
  },
  {
   "cell_type": "markdown",
   "metadata": {},
   "source": [
    "### Program to print pyramid pattern as below"
   ]
  },
  {
   "cell_type": "code",
   "execution_count": 75,
   "metadata": {},
   "outputs": [
    {
     "name": "stdout",
     "output_type": "stream",
     "text": [
      "🤖\n",
      "🤖🤖\n",
      "🤖🤖🤖\n",
      "🤖🤖🤖🤖\n",
      "🤖🤖🤖🤖🤖\n",
      "🤖🤖🤖🤖🤖🤖\n",
      "🤖🤖🤖🤖🤖🤖🤖\n",
      "🤖🤖🤖🤖🤖🤖🤖🤖\n",
      "🤖🤖🤖🤖🤖🤖🤖🤖🤖\n",
      "🤖🤖🤖🤖🤖🤖🤖🤖🤖🤖\n"
     ]
    }
   ],
   "source": [
    "for i in range(10):\n",
    "    for j in range(i+1):\n",
    "        print('🤖', end ='')\n",
    "    print(end='\\n')"
   ]
  },
  {
   "cell_type": "code",
   "execution_count": 51,
   "metadata": {},
   "outputs": [
    {
     "name": "stdout",
     "output_type": "stream",
     "text": [
      "\n",
      "🤖\n",
      "🤖🤖\n",
      "🤖🤖🤖\n",
      "🤖🤖🤖🤖\n",
      "🤖🤖🤖🤖🤖\n",
      "🤖🤖🤖🤖🤖🤖\n",
      "🤖🤖🤖🤖🤖🤖🤖\n",
      "🤖🤖🤖🤖🤖🤖🤖🤖\n",
      "🤖🤖🤖🤖🤖🤖🤖🤖🤖\n",
      "🤖🤖🤖🤖🤖🤖🤖🤖🤖🤖\n"
     ]
    }
   ],
   "source": [
    "for i in range(11):\n",
    "    print(i *'🤖')\n",
    "    i += 1"
   ]
  },
  {
   "cell_type": "markdown",
   "metadata": {},
   "source": [
    "### Working with tuple and loops"
   ]
  },
  {
   "cell_type": "markdown",
   "metadata": {},
   "source": [
    "### Use a for loop to reverse a collection of elements in a tuple"
   ]
  },
  {
   "cell_type": "code",
   "execution_count": 78,
   "metadata": {},
   "outputs": [],
   "source": [
    "t = (23,42,46,24,64,27,49,25,54)"
   ]
  },
  {
   "cell_type": "code",
   "execution_count": 127,
   "metadata": {},
   "outputs": [
    {
     "name": "stdout",
     "output_type": "stream",
     "text": [
      "(54, 25, 49, 27, 64, 24, 46, 42, 23)\n"
     ]
    }
   ],
   "source": [
    "list1 = []\n",
    "\n",
    "for i in range(len(t)-1,-1,-1):            # Note that the values in range() is very logical\n",
    "    list1.append(t[i])\n",
    "\n",
    "t2 = tuple(list1)\n",
    "print(t2)"
   ]
  },
  {
   "cell_type": "code",
   "execution_count": 125,
   "metadata": {},
   "outputs": [
    {
     "data": {
      "text/plain": [
       "(54, 25, 49, 27, 64, 24, 46, 42, 23)"
      ]
     },
     "execution_count": 125,
     "metadata": {},
     "output_type": "execute_result"
    }
   ],
   "source": [
    "# Regular Approach\n",
    "\n",
    "t[::-1]"
   ]
  },
  {
   "cell_type": "markdown",
   "metadata": {},
   "source": [
    "### Same using while loop:"
   ]
  },
  {
   "cell_type": "code",
   "execution_count": 161,
   "metadata": {},
   "outputs": [
    {
     "name": "stdout",
     "output_type": "stream",
     "text": [
      "(54, 25, 49, 27, 64, 24, 46, 42, 23)\n"
     ]
    }
   ],
   "source": [
    "l = []\n",
    "i = len(t)-1\n",
    "\n",
    "while i >=0 :\n",
    "    l.append(t[i])\n",
    "    i -= 1\n",
    "\n",
    "print(tuple(l))"
   ]
  },
  {
   "cell_type": "markdown",
   "metadata": {},
   "source": [
    "## Working with dictionary and loops"
   ]
  },
  {
   "cell_type": "code",
   "execution_count": 128,
   "metadata": {},
   "outputs": [],
   "source": [
    "dictionary = {'a':\"Saheen\",'b':\"Ahzan\",'c':[1,2,3,4,5],'d':(1,2,3,4,5),'e':12345}"
   ]
  },
  {
   "cell_type": "code",
   "execution_count": 135,
   "metadata": {},
   "outputs": [
    {
     "name": "stdout",
     "output_type": "stream",
     "text": [
      "a Saheen\n",
      "b Ahzan\n",
      "c [1, 2, 3, 4, 5]\n",
      "d (1, 2, 3, 4, 5)\n",
      "e 12345\n"
     ]
    }
   ],
   "source": [
    "for i in dictionary:\n",
    "    print(i, dictionary[i])"
   ]
  },
  {
   "cell_type": "code",
   "execution_count": 138,
   "metadata": {},
   "outputs": [
    {
     "data": {
      "text/plain": [
       "dict_items([('a', 'Saheen'), ('b', 'Ahzan'), ('c', [1, 2, 3, 4, 5]), ('d', (1, 2, 3, 4, 5)), ('e', 12345)])"
      ]
     },
     "execution_count": 138,
     "metadata": {},
     "output_type": "execute_result"
    }
   ],
   "source": [
    "# Another approach by using dictionary.items() method\n",
    "\n",
    "dictionary.items()"
   ]
  },
  {
   "cell_type": "code",
   "execution_count": 137,
   "metadata": {},
   "outputs": [
    {
     "name": "stdout",
     "output_type": "stream",
     "text": [
      "('a', 'Saheen')\n",
      "('b', 'Ahzan')\n",
      "('c', [1, 2, 3, 4, 5])\n",
      "('d', (1, 2, 3, 4, 5))\n",
      "('e', 12345)\n"
     ]
    }
   ],
   "source": [
    "for i in dictionary.items():\n",
    "    print(i)"
   ]
  },
  {
   "cell_type": "markdown",
   "metadata": {},
   "source": [
    "##### To seperate the list of elements with different length in dict keys"
   ]
  },
  {
   "cell_type": "code",
   "execution_count": 184,
   "metadata": {},
   "outputs": [
    {
     "name": "stdout",
     "output_type": "stream",
     "text": [
      "Greater than len(5): ['United States', 'Germany']\n",
      "Less than or equal to len(5): ['India', 'China']\n"
     ]
    }
   ],
   "source": [
    "d = {\"India\":\"IN\",\n",
    "     \"China\":\"CH\",\n",
    "     \"United States\":\"US\",\n",
    "     \"Germany\":\"DE\"\n",
    "}\n",
    "\n",
    "greater= []\n",
    "lesser = []\n",
    "\n",
    "for i in d.keys():\n",
    "    if len(i) > 5:\n",
    "        greater.append(i)\n",
    "    else:\n",
    "        lesser.append(i)\n",
    "\n",
    "print(f\"Greater than len(5): {l1}\\nLess than or equal to len(5): {l2}\")"
   ]
  },
  {
   "cell_type": "markdown",
   "metadata": {},
   "source": [
    "##### To find the maximum number from each nested dictionary inside another dict"
   ]
  },
  {
   "cell_type": "code",
   "execution_count": 232,
   "metadata": {},
   "outputs": [
    {
     "name": "stdout",
     "output_type": "stream",
     "text": [
      "ineruron\n",
      "14\n",
      "course\n",
      "45\n"
     ]
    }
   ],
   "source": [
    "d = {\n",
    "    \"ineruron\":\n",
    "        {'a':14,\n",
    "         'b':10,\n",
    "         'c':4\n",
    "         },\n",
    "    \"course\":\n",
    "        {'d':45,\n",
    "         'e':34,\n",
    "         'f':1\n",
    "    }\n",
    "}\n",
    "\n",
    "for i in d.keys():\n",
    "    print(i)\n",
    "    print(max(d[i].values()))"
   ]
  },
  {
   "cell_type": "code",
   "execution_count": 267,
   "metadata": {},
   "outputs": [
    {
     "name": "stdout",
     "output_type": "stream",
     "text": [
      "maximum int value in the parent dict, d is 54\n"
     ]
    }
   ],
   "source": [
    "# To find the maximum integer value of all the values in the parent dictionary\n",
    "\n",
    "d = {\"ineuron\":{'a':14,'b':10,'c':4},\"course\":{'d':45,'e':34,'f':1},'g':34, 'h':[45,6,7,8,9,3],'i':(45,34,2),'k':\"saheen\",'l':35+7j,'m':{23,3,54}}\n",
    "\n",
    "l1 = []\n",
    "for i in d.values():\n",
    "    if type(i) in [list, tuple, set]:\n",
    "        for j in i:\n",
    "            l1.append(j)\n",
    "    elif type(i) == int:\n",
    "        l1.append(i)\n",
    "    elif type(i) == dict:\n",
    "        for k in i.values():\n",
    "            l1.append(k)\n",
    "    else:\n",
    "        pass\n",
    "print(f\"maximum int value in the parent dict, d is {max(l1)}\") "
   ]
  },
  {
   "cell_type": "markdown",
   "metadata": {},
   "source": [
    "### To seperate the list of elements with different length in dict keys"
   ]
  },
  {
   "cell_type": "markdown",
   "metadata": {},
   "source": [
    "## Working with sets and loops"
   ]
  },
  {
   "cell_type": "code",
   "execution_count": 150,
   "metadata": {},
   "outputs": [],
   "source": [
    "# Sets are UN-ORDERED collection of values\n",
    "\n",
    "s = {12,14,1,41,74,6,34,5,74,7,3}"
   ]
  },
  {
   "cell_type": "code",
   "execution_count": 151,
   "metadata": {},
   "outputs": [
    {
     "data": {
      "text/plain": [
       "{1, 3, 5, 6, 7, 12, 14, 34, 41, 74}"
      ]
     },
     "execution_count": 151,
     "metadata": {},
     "output_type": "execute_result"
    }
   ],
   "source": [
    "s"
   ]
  },
  {
   "cell_type": "code",
   "execution_count": 152,
   "metadata": {},
   "outputs": [
    {
     "name": "stdout",
     "output_type": "stream",
     "text": [
      "1\n",
      "34\n",
      "3\n",
      "5\n",
      "6\n",
      "7\n",
      "41\n",
      "74\n",
      "12\n",
      "14\n"
     ]
    }
   ],
   "source": [
    "# Now you can see that sets are UN-ORDERED while iterating through each element in a set\n",
    "\n",
    "for i in s:\n",
    "    print(i)"
   ]
  },
  {
   "cell_type": "code",
   "execution_count": 153,
   "metadata": {},
   "outputs": [
    {
     "name": "stdout",
     "output_type": "stream",
     "text": [
      "1\n",
      "3\n",
      "5\n",
      "6\n",
      "7\n",
      "12\n",
      "14\n",
      "34\n",
      "41\n",
      "74\n"
     ]
    }
   ],
   "source": [
    "# To have it sorted:\n",
    "\n",
    "for i in sorted(s):\n",
    "    print(i)"
   ]
  },
  {
   "cell_type": "markdown",
   "metadata": {},
   "source": [
    "### Finding vowels in the strings"
   ]
  },
  {
   "cell_type": "code",
   "execution_count": 164,
   "metadata": {},
   "outputs": [
    {
     "name": "stdout",
     "output_type": "stream",
     "text": [
      "i - Vowel\n",
      "n - Not vowel\n",
      "e - Vowel\n",
      "u - Vowel\n",
      "r - Not vowel\n",
      "o - Vowel\n",
      "n - Not vowel\n"
     ]
    }
   ],
   "source": [
    "s = \"ineuron\"\n",
    "v = \"AaEeIiOoUu\"\n",
    "\n",
    "for i in s:\n",
    "    if i in v:\n",
    "        print(f\"{i} - Vowel\")\n",
    "    else:\n",
    "        print(f\"{i} - Not vowel\") "
   ]
  },
  {
   "cell_type": "code",
   "execution_count": 165,
   "metadata": {},
   "outputs": [
    {
     "data": {
      "text/plain": [
       "True"
      ]
     },
     "execution_count": 165,
     "metadata": {},
     "output_type": "execute_result"
    }
   ],
   "source": [
    "'h' in \"Saheen\""
   ]
  },
  {
   "cell_type": "markdown",
   "metadata": {},
   "source": [
    "### Finding if a string is palindrome or not"
   ]
  },
  {
   "cell_type": "code",
   "execution_count": 83,
   "metadata": {},
   "outputs": [
    {
     "name": "stdout",
     "output_type": "stream",
     "text": [
      "Palindrome\n"
     ]
    }
   ],
   "source": [
    "# Most easiest approach\n",
    "\n",
    "s = \"malayalam\"\n",
    "\n",
    "if s[::-1] == s:\n",
    "    print(\"Palindrome\")\n",
    "else:\n",
    "    print(\"Not Palindrome\")"
   ]
  },
  {
   "cell_type": "code",
   "execution_count": 131,
   "metadata": {},
   "outputs": [
    {
     "name": "stdout",
     "output_type": "stream",
     "text": [
      "Palindrome\n"
     ]
    }
   ],
   "source": [
    "# Same using a WHILE - ELSE loop\n",
    "\n",
    "s = \"malayalam\"\n",
    "i = 0\n",
    "\n",
    "while i < len(s):\n",
    "    if s[len(s)-i-1] != s[i]:\n",
    "        print(\"Not Palindrome\")\n",
    "        break\n",
    "    i += 1\n",
    "else:\n",
    "    print(\"Palindrome\")"
   ]
  },
  {
   "cell_type": "code",
   "execution_count": 82,
   "metadata": {},
   "outputs": [
    {
     "name": "stdout",
     "output_type": "stream",
     "text": [
      "Palindrome\n"
     ]
    }
   ],
   "source": [
    "# Same using a FOR - ELSE loop\n",
    "\n",
    "s = \"malayalam\"\n",
    "\n",
    "for i in range(len(s)):\n",
    "    if s[i] != s[len(s)-i-1]:\n",
    "        print(\"Not Palindrome\")\n",
    "        break\n",
    "    i += 1\n",
    "else:\n",
    "    print(\"Palindrome\") "
   ]
  },
  {
   "cell_type": "code",
   "execution_count": 153,
   "metadata": {},
   "outputs": [
    {
     "name": "stdout",
     "output_type": "stream",
     "text": [
      "Palindrome\n"
     ]
    }
   ],
   "source": [
    "# By using reverse operation of the same string and comparing using a WHILE and IF loop\n",
    "\n",
    "s = \"malayalam\"\n",
    "s1 = \"\"\n",
    "i = len(s)-1\n",
    "\n",
    "while i >= 0:\n",
    "    s1 = s1 + s[i]\n",
    "    i -= 1\n",
    "if s1 == s:\n",
    "    print(\"Palindrome\")\n",
    "else:\n",
    "    print(\"Not Palindrome\")"
   ]
  }
 ],
 "metadata": {
  "kernelspec": {
   "display_name": "Python 3 (ipykernel)",
   "language": "python",
   "name": "python3"
  },
  "language_info": {
   "codemirror_mode": {
    "name": "ipython",
    "version": 3
   },
   "file_extension": ".py",
   "mimetype": "text/x-python",
   "name": "python",
   "nbconvert_exporter": "python",
   "pygments_lexer": "ipython3",
   "version": "3.10.7"
  }
 },
 "nbformat": 4,
 "nbformat_minor": 2
}
